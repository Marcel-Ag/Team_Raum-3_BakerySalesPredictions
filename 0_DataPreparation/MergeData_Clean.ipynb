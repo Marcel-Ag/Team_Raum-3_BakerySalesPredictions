{
 "cells": [
  {
   "cell_type": "code",
   "execution_count": 9,
   "metadata": {},
   "outputs": [
    {
     "name": "stdout",
     "output_type": "stream",
     "text": [
      "        Datum  Bewoelkung  Temperatur  Windgeschwindigkeit  Wettercode  \\\n",
      "0  2013-07-01         6.0     17.8375                   15        20.0   \n",
      "1  2013-07-01         6.0     17.8375                   15        20.0   \n",
      "2  2013-07-01         6.0     17.8375                   15        20.0   \n",
      "3  2013-07-01         6.0     17.8375                   15        20.0   \n",
      "4  2013-07-01         6.0     17.8375                   15        20.0   \n",
      "\n",
      "   Warengruppe      Umsatz  KiWo  \n",
      "0            1  148.828353     0  \n",
      "1            2  535.856285     0  \n",
      "2            3  201.198426     0  \n",
      "3            4   65.890169     0  \n",
      "4            5  317.475875     0  \n",
      "        Datum  Bewoelkung  Temperatur  Windgeschwindigkeit  Wettercode  \\\n",
      "0  2013-07-01         6.0     17.8375                   15        20.0   \n",
      "1  2013-07-01         6.0     17.8375                   15        20.0   \n",
      "2  2013-07-01         6.0     17.8375                   15        20.0   \n",
      "3  2013-07-01         6.0     17.8375                   15        20.0   \n",
      "4  2013-07-01         6.0     17.8375                   15        20.0   \n",
      "\n",
      "   Warengruppe      Umsatz  KiWo  \n",
      "0            1  148.828353     0  \n",
      "1            2  535.856285     0  \n",
      "2            3  201.198426     0  \n",
      "3            4   65.890169     0  \n",
      "4            5  317.475875     0  \n",
      "Merge complete. Data saved for subsequent processing.\n"
     ]
    }
   ],
   "source": [
    "# MergeData.ipynb\n",
    "import pandas as pd\n",
    "\n",
    "# Define the URLs for the additional datasets\n",
    "kiwo_url = 'https://raw.githubusercontent.com/opencampus-sh/einfuehrung-in-data-science-und-ml/main/kiwo.csv'\n",
    "wetter_url = 'https://raw.githubusercontent.com/opencampus-sh/einfuehrung-in-data-science-und-ml/main/wetter.csv'\n",
    "umsatzdaten_gekuerzt_url = 'https://raw.githubusercontent.com/opencampus-sh/einfuehrung-in-data-science-und-ml/main/umsatzdaten_gekuerzt.csv'\n",
    "\n",
    "# Load the datasets\n",
    "kiwo = pd.read_csv(kiwo_url, delimiter=',')\n",
    "wetter = pd.read_csv(wetter_url, delimiter=',')\n",
    "umsatzdaten_gekuerzt = pd.read_csv(umsatzdaten_gekuerzt_url, delimiter=',')\n",
    "\n",
    "# Merge datasets\n",
    "wetter_umsatzdaten = pd.merge(wetter, umsatzdaten_gekuerzt, on=\"Datum\")\n",
    "\n",
    "# Add a new column 'KiWo' to mark dates contained in the kiwo file\n",
    "wetter_umsatzdaten['KiWo'] = wetter_umsatzdaten['Datum'].isin(kiwo['Datum']).astype(int)\n",
    "print(wetter_umsatzdaten.head())\n",
    "\n",
    "#Define this merged dataset as the new dataset\n",
    "wetter_umsatzdaten_kiwo = wetter_umsatzdaten\n",
    "print(wetter_umsatzdaten_kiwo.head())\n",
    "\n",
    "# Save merged datasets\n",
    "wetter_umsatzdaten_kiwo.to_csv(\"wetter_umsatzdaten_kiwo.csv\", index=False)\n",
    "\n",
    "\n",
    "print(\"Merge complete. Data saved for subsequent processing.\")\n"
   ]
  }
 ],
 "metadata": {
  "kernelspec": {
   "display_name": "Python 3",
   "language": "python",
   "name": "python3"
  },
  "language_info": {
   "codemirror_mode": {
    "name": "ipython",
    "version": 3
   },
   "file_extension": ".py",
   "mimetype": "text/x-python",
   "name": "python",
   "nbconvert_exporter": "python",
   "pygments_lexer": "ipython3",
   "version": "3.12.1"
  }
 },
 "nbformat": 4,
 "nbformat_minor": 2
}
