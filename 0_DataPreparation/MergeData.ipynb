{
 "cells": [
  {
   "cell_type": "code",
   "execution_count": 2,
   "metadata": {},
   "outputs": [
    {
     "name": "stdout",
     "output_type": "stream",
     "text": [
      "Requirement already satisfied: holidays in /usr/local/python/3.12.1/lib/python3.12/site-packages (0.63)\n",
      "Requirement already satisfied: python-dateutil in /home/codespace/.local/lib/python3.12/site-packages (from holidays) (2.9.0.post0)\n",
      "Requirement already satisfied: six>=1.5 in /home/codespace/.local/lib/python3.12/site-packages (from python-dateutil->holidays) (1.16.0)\n",
      "\n",
      "\u001b[1m[\u001b[0m\u001b[34;49mnotice\u001b[0m\u001b[1;39;49m]\u001b[0m\u001b[39;49m A new release of pip is available: \u001b[0m\u001b[31;49m24.2\u001b[0m\u001b[39;49m -> \u001b[0m\u001b[32;49m24.3.1\u001b[0m\n",
      "\u001b[1m[\u001b[0m\u001b[34;49mnotice\u001b[0m\u001b[1;39;49m]\u001b[0m\u001b[39;49m To update, run: \u001b[0m\u001b[32;49mpython3 -m pip install --upgrade pip\u001b[0m\n",
      "       Datum  Warengruppe       ID\n",
      "0 2012-01-01            0  1201010\n",
      "1 2012-01-02            0  1201020\n",
      "2 2012-01-03            0  1201030\n",
      "3 2012-01-04            0  1201040\n",
      "4 2012-01-05            0  1201050\n",
      "Merge complete. Data saved for subsequent processing.\n"
     ]
    }
   ],
   "source": [
    "!pip install holidays\n",
    "import pandas as pd\n",
    "import holidays\n",
    "\n",
    "# Define the URLs for the additional datasets\n",
    "kiwo_url = 'https://raw.githubusercontent.com/opencampus-sh/einfuehrung-in-data-science-und-ml/main/kiwo.csv'\n",
    "wetter_url = 'https://raw.githubusercontent.com/opencampus-sh/einfuehrung-in-data-science-und-ml/main/wetter.csv'\n",
    "umsatzdaten_gekuerzt_url = 'https://raw.githubusercontent.com/opencampus-sh/einfuehrung-in-data-science-und-ml/main/umsatzdaten_gekuerzt.csv'\n",
    "\n",
    "# Load the datasets\n",
    "kiwo = pd.read_csv(kiwo_url, delimiter=',')\n",
    "wetter = pd.read_csv(wetter_url, delimiter=',')\n",
    "umsatzdaten_gekuerzt = pd.read_csv(umsatzdaten_gekuerzt_url, delimiter=',')\n",
    "\n",
    "# Merge datasets with a left join to retain all rows from wetter\n",
    "wetter_umsatzdaten = pd.merge(wetter, umsatzdaten_gekuerzt, on=\"Datum\", how=\"left\")\n",
    "\n",
    "# Add KiWo flag\n",
    "wetter_umsatzdaten['KiWo'] = wetter_umsatzdaten['Datum'].isin(kiwo['Datum']).astype(int)\n",
    "\n",
    "# Convert the 'Datum' column to datetime\n",
    "wetter_umsatzdaten['Datum'] = pd.to_datetime(wetter_umsatzdaten['Datum'])\n",
    "\n",
    "# Define the range of years\n",
    "years = range(2012, 2019 + 1)\n",
    "\n",
    "# Create a list to store the holidays\n",
    "holidays_sh = []\n",
    "\n",
    "# Loop through each year and get the holidays for Schleswig-Holstein\n",
    "for year in years:\n",
    "    for date, name in holidays.Germany(years=year, state='SH').items():\n",
    "        holidays_sh.append((date, name))\n",
    "\n",
    "# Create a set of holiday dates\n",
    "holiday_dates = set(date for date, name in holidays_sh)\n",
    "\n",
    "# Add a new column 'Holiday' to the wetter_umsatzdaten dataframe\n",
    "wetter_umsatzdaten['Holiday'] = wetter_umsatzdaten['Datum'].apply(lambda x: 1 if pd.to_datetime(x).date() in holiday_dates else 0)\n",
    "\n",
    "# Replace NaN in Umsatz with 0\n",
    "wetter_umsatzdaten['Umsatz'] = wetter_umsatzdaten['Umsatz'].fillna(0)\n",
    "\n",
    "# Replace NaN in Warengruppe with 0\n",
    "wetter_umsatzdaten['Warengruppe'] = wetter_umsatzdaten['Warengruppe'].fillna(0).astype(int)\n",
    "\n",
    "# Create a new column 'ID' to match the sample submission format (YYMMDDW)\n",
    "wetter_umsatzdaten['ID'] = (\n",
    "    wetter_umsatzdaten['Datum'].dt.strftime('%y%m%d').astype(str) + \n",
    "    wetter_umsatzdaten['Warengruppe'].astype(str)\n",
    ").astype(int)\n",
    "\n",
    "# Print the first few rows to verify the new ID format\n",
    "print(wetter_umsatzdaten[['Datum', 'Warengruppe', 'ID']].head())\n",
    "\n",
    "# Save merged dataset directly\n",
    "wetter_umsatzdaten.to_csv(\"wetter_umsatzdaten_kiwo_hol_id.csv\", index=False)\n",
    "\n",
    "print(\"Merge complete. Data saved for subsequent processing.\")\n"
   ]
  }
 ],
 "metadata": {
  "kernelspec": {
   "display_name": "Python 3",
   "language": "python",
   "name": "python3"
  },
  "language_info": {
   "codemirror_mode": {
    "name": "ipython",
    "version": 3
   },
   "file_extension": ".py",
   "mimetype": "text/x-python",
   "name": "python",
   "nbconvert_exporter": "python",
   "pygments_lexer": "ipython3",
   "version": "3.12.1"
  }
 },
 "nbformat": 4,
 "nbformat_minor": 2
}
