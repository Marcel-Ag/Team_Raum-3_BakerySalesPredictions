{
 "cells": [
  {
   "cell_type": "code",
   "execution_count": null,
   "metadata": {},
   "outputs": [
    {
     "name": "stdout",
     "output_type": "stream",
     "text": [
      "Merge complete. Data saved for subsequent processing.\n"
     ]
    }
   ],
   "source": [
    "# MergeData.ipynb\n",
    "import pandas as pd\n",
    "import holidays\n",
    "# Define the URLs for the additional datasets\n",
    "kiwo_url = 'https://raw.githubusercontent.com/opencampus-sh/einfuehrung-in-data-science-und-ml/main/kiwo.csv'\n",
    "wetter_url = 'https://raw.githubusercontent.com/opencampus-sh/einfuehrung-in-data-science-und-ml/main/wetter.csv'\n",
    "umsatzdaten_gekuerzt_url = 'https://raw.githubusercontent.com/opencampus-sh/einfuehrung-in-data-science-und-ml/main/umsatzdaten_gekuerzt.csv'\n",
    "\n",
    "# Load the datasets\n",
    "kiwo = pd.read_csv(kiwo_url, delimiter=',')\n",
    "wetter = pd.read_csv(wetter_url, delimiter=',')\n",
    "umsatzdaten_gekuerzt = pd.read_csv(umsatzdaten_gekuerzt_url, delimiter=',')\n",
    "\n",
    "# Merge datasets\n",
    "wetter_umsatzdaten = pd.merge(wetter, umsatzdaten_gekuerzt, on=\"Datum\")\n",
    "\n",
    "# Add KiWo flag\n",
    "wetter_umsatzdaten['KiWo'] = wetter_umsatzdaten['Datum'].isin(kiwo['Datum']).astype(int)\n",
    "# Convert the 'Datum' column to datetime\n",
    "wetter_umsatzdaten['Datum'] = pd.to_datetime(wetter_umsatzdaten['Datum'])\n",
    "\n",
    "\n",
    "\n",
    "# Define the range of years\n",
    "years = range(2012, 2019 + 1)\n",
    "\n",
    "# Create a list to store the holidays\n",
    "holidays_sh = []\n",
    "\n",
    "# Loop through each year and get the holidays for Schleswig-Holstein\n",
    "for year in years:\n",
    "    for date, name in holidays.Germany(years=year, state='SH').items():\n",
    "        holidays_sh.append((date, name))\n",
    "\n",
    "# Create a set of holiday dates\n",
    "holiday_dates = set(date for date, name in holidays_sh)\n",
    "\n",
    "# Add a new column 'Holiday' to the data_kiwo dataframe\n",
    "wetter_umsatzdaten['Holiday'] = wetter_umsatzdaten['Datum'].apply(lambda x: 1 if pd.to_datetime(x).date() in holiday_dates else 0)\n",
    "#Clean data and set ID to merge sample dataset from Kaggl\n",
    "\n",
    "merged_data = wetter_umsatzdaten.dropna(subset=['Umsatz'])\n",
    "print(merged_data.head())\n",
    "\n",
    "# Convert 'Warengruppe' to integer\n",
    "merged_data['Warengruppe'] = merged_data['Warengruppe'].astype(int)\n",
    "\n",
    "# Create a new column 'ID' by combining 'Datum' and 'Warengruppe' without digits\n",
    "merged_data['ID'] = merged_data['Datum'].dt.strftime('%Y-%m-%d') + '_' + merged_data['Warengruppe'].astype(str)\n",
    "# Print the first few rows to verify\n",
    "print(merged_data.head())\n",
    "\n",
    "# Save merged dataset directly\n",
    "merged_data.to_csv(\"wetter_umsatzdaten_kiwo_hol_id.csv\", index=False)\n",
    "\n",
    "print(\"Merge complete. Data saved for subsequent processing.\")\n"
   ]
  }
 ],
 "metadata": {
  "kernelspec": {
   "display_name": "Python 3",
   "language": "python",
   "name": "python3"
  },
  "language_info": {
   "codemirror_mode": {
    "name": "ipython",
    "version": 3
   },
   "file_extension": ".py",
   "mimetype": "text/x-python",
   "name": "python",
   "nbconvert_exporter": "python",
   "pygments_lexer": "ipython3",
   "version": "3.12.1"
  }
 },
 "nbformat": 4,
 "nbformat_minor": 2
}
