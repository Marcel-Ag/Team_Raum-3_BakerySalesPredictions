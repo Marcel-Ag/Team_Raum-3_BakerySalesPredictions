{
 "cells": [
  {
   "cell_type": "code",
   "execution_count": 5,
   "metadata": {},
   "outputs": [
    {
     "name": "stdout",
     "output_type": "stream",
     "text": [
      "Merge complete. Data saved for subsequent processing.\n"
     ]
    }
   ],
   "source": [
    "# MergeData.ipynb\n",
    "import pandas as pd\n",
    "\n",
    "# Define the URLs for the additional datasets\n",
    "kiwo_url = 'https://raw.githubusercontent.com/opencampus-sh/einfuehrung-in-data-science-und-ml/main/kiwo.csv'\n",
    "wetter_url = 'https://raw.githubusercontent.com/opencampus-sh/einfuehrung-in-data-science-und-ml/main/wetter.csv'\n",
    "umsatzdaten_gekuerzt_url = 'https://raw.githubusercontent.com/opencampus-sh/einfuehrung-in-data-science-und-ml/main/umsatzdaten_gekuerzt.csv'\n",
    "\n",
    "# Load the datasets\n",
    "kiwo = pd.read_csv(kiwo_url, delimiter=',')\n",
    "wetter = pd.read_csv(wetter_url, delimiter=',')\n",
    "umsatzdaten_gekuerzt = pd.read_csv(umsatzdaten_gekuerzt_url, delimiter=',')\n",
    "\n",
    "# Merge datasets\n",
    "wetter_umsatzdaten = pd.merge(wetter, umsatzdaten_gekuerzt, on=\"Datum\")\n",
    "\n",
    "# Add KiWo flag\n",
    "wetter_umsatzdaten['KiWo'] = wetter_umsatzdaten['Datum'].isin(kiwo['Datum']).astype(int)\n",
    "\n",
    "# Save merged dataset directly\n",
    "wetter_umsatzdaten.to_csv(\"wetter_umsatzdaten_kiwo.csv\", index=False)\n",
    "\n",
    "print(\"Merge complete. Data saved for subsequent processing.\")\n"
   ]
  }
 ],
 "metadata": {
  "kernelspec": {
   "display_name": "Python 3",
   "language": "python",
   "name": "python3"
  },
  "language_info": {
   "codemirror_mode": {
    "name": "ipython",
    "version": 3
   },
   "file_extension": ".py",
   "mimetype": "text/x-python",
   "name": "python",
   "nbconvert_exporter": "python",
   "pygments_lexer": "ipython3",
   "version": "3.12.1"
  }
 },
 "nbformat": 4,
 "nbformat_minor": 2
}
