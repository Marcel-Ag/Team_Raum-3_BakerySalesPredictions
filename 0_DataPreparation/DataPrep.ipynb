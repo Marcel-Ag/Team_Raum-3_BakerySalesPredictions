{
 "cells": [
  {
   "cell_type": "code",
   "execution_count": 1,
   "metadata": {},
   "outputs": [
    {
     "name": "stdout",
     "output_type": "stream",
     "text": [
      "Data Overview:\n",
      "        Datum  Bewoelkung  Temperatur  Windgeschwindigkeit  Wettercode  \\\n",
      "0  2013-07-01         6.0     17.8375                   15        20.0   \n",
      "1  2013-07-01         6.0     17.8375                   15        20.0   \n",
      "2  2013-07-01         6.0     17.8375                   15        20.0   \n",
      "3  2013-07-01         6.0     17.8375                   15        20.0   \n",
      "4  2013-07-01         6.0     17.8375                   15        20.0   \n",
      "\n",
      "   Warengruppe      Umsatz  KiWo  Holiday            ID  \n",
      "0            1  148.828353     0        0  2013-07-01_1  \n",
      "1            2  535.856285     0        0  2013-07-01_2  \n",
      "2            3  201.198426     0        0  2013-07-01_3  \n",
      "3            4   65.890169     0        0  2013-07-01_4  \n",
      "4            5  317.475875     0        0  2013-07-01_5  \n",
      "Shape of Data: (9318, 10)\n",
      "Missing values per column:\n",
      "Datum                     0\n",
      "Bewoelkung               54\n",
      "Temperatur                0\n",
      "Windgeschwindigkeit       0\n",
      "Wettercode             2309\n",
      "Warengruppe               0\n",
      "Umsatz                    0\n",
      "KiWo                      0\n",
      "Holiday                   0\n",
      "ID                        0\n",
      "dtype: int64\n"
     ]
    }
   ],
   "source": [
    "# DataPrep.ipynb\n",
    "import pandas as pd\n",
    "\n",
    "# Load the merged dataset\n",
    "wetter_umsatzdaten_kiwo = pd.read_csv(\"../0_DataPreparation/wetter_umsatzdaten_kiwo_hol_id.csv\")\n",
    "\n",
    "# Step 1: Inspect the data\n",
    "print(\"Data Overview:\")\n",
    "print(wetter_umsatzdaten_kiwo.head())\n",
    "print(\"Shape of Data:\", wetter_umsatzdaten_kiwo.shape)\n",
    "print(\"Missing values per column:\")\n",
    "print(wetter_umsatzdaten_kiwo.isnull().sum())\n"
   ]
  },
  {
   "cell_type": "markdown",
   "metadata": {},
   "source": [
    "\n",
    "# Step 2: Feature Engineering"
   ]
  },
  {
   "cell_type": "code",
   "execution_count": 2,
   "metadata": {},
   "outputs": [
    {
     "name": "stdout",
     "output_type": "stream",
     "text": [
      "Data preparation and characterization complete. Processed data and feature columns saved.\n"
     ]
    }
   ],
   "source": [
    "\n",
    "# Convert 'Datum' to datetime and add a weekday column\n",
    "wetter_umsatzdaten_kiwo['Datum'] = pd.to_datetime(wetter_umsatzdaten_kiwo['Datum'], errors='coerce')\n",
    "wetter_umsatzdaten_kiwo['Wochentag'] = wetter_umsatzdaten_kiwo['Datum'].dt.day_name()\n",
    "wetter_umsatzdaten_kiwo['Is_Weekend'] = wetter_umsatzdaten_kiwo['Datum'].dt.weekday.isin([5, 6]).astype(int)\n",
    "\n",
    "# Add a temperature category\n",
    "def classify_temperature(temp):\n",
    "    if temp < 0:\n",
    "        return -2  # Very Cold\n",
    "    elif 0 <= temp <= 10:\n",
    "        return -1  # Cold\n",
    "    elif 10 < temp <= 20:\n",
    "        return 1   # Warm\n",
    "    else:\n",
    "        return 2   # Very Warm\n",
    "\n",
    "wetter_umsatzdaten_kiwo['Temperature_Category'] = wetter_umsatzdaten_kiwo['Temperatur'].apply(classify_temperature)\n",
    "\n",
    "# Add a Beaufort scale categorization function\n",
    "def classify_wind_speed_beaufort(wind_speed):\n",
    "    \"\"\"\n",
    "    Classify wind speed according to the Beaufort scale\n",
    "    \n",
    "    Beaufort Number | Description | Wind Speed (m/s)\n",
    "    0              | Calm        | 0-0.2\n",
    "    1              | Light Air   | 0.3-1.5\n",
    "    2              | Light Breeze| 1.6-3.3\n",
    "    3              | Gentle Breeze| 3.4-5.4\n",
    "    4              | Moderate Breeze| 5.5-7.9\n",
    "    5              | Fresh Breeze| 8.0-10.7\n",
    "    6              | Strong Breeze| 10.8-13.8\n",
    "    7              | Near Gale   | 13.9-17.1\n",
    "    8              | Gale        | 17.2-20.7\n",
    "    9              | Strong Gale | 20.8-24.4\n",
    "    10             | Storm       | 24.5-28.4\n",
    "    11             | Violent Storm| 28.5-32.6\n",
    "    12             | Hurricane   | >32.6\n",
    "    \"\"\"\n",
    "    if wind_speed <= 0.2:\n",
    "        return 0  # Calm\n",
    "    elif wind_speed <= 1.5:\n",
    "        return 1  # Light Air\n",
    "    elif wind_speed <= 3.3:\n",
    "        return 2  # Light Breeze\n",
    "    elif wind_speed <= 5.4:\n",
    "        return 3  # Gentle Breeze\n",
    "    elif wind_speed <= 7.9:\n",
    "        return 4  # Moderate Breeze\n",
    "    elif wind_speed <= 10.7:\n",
    "        return 5  # Fresh Breeze\n",
    "    elif wind_speed <= 13.8:\n",
    "        return 6  # Strong Breeze\n",
    "    elif wind_speed <= 17.1:\n",
    "        return 7  # Near Gale\n",
    "    elif wind_speed <= 20.7:\n",
    "        return 8  # Gale\n",
    "    elif wind_speed <= 24.4:\n",
    "        return 9  # Strong Gale\n",
    "    elif wind_speed <= 28.4:\n",
    "        return 10  # Storm\n",
    "    elif wind_speed <= 32.6:\n",
    "        return 11  # Violent Storm\n",
    "    else:\n",
    "        return 12  # Hurricane\n",
    "\n",
    "# Apply Beaufort scale classification\n",
    "wetter_umsatzdaten_kiwo['Windgeschwindigkeit_Beaufort'] = wetter_umsatzdaten_kiwo['Windgeschwindigkeit'].apply(classify_wind_speed_beaufort)\n",
    "\n",
    "# Perform one-hot encoding for 'Warengruppe'\n",
    "warengruppe_encoded = pd.get_dummies(wetter_umsatzdaten_kiwo['Warengruppe'], prefix='Warengruppe')\n",
    "wetter_umsatzdaten_kiwo = pd.concat([wetter_umsatzdaten_kiwo, warengruppe_encoded], axis=1)\n",
    "\n",
    "# Dynamically create a list of feature columns\n",
    "feature_columns = ['KiWo', 'Is_Weekend', 'Temperature_Category'] + list(warengruppe_encoded.columns)   \n",
    "\n",
    "\n",
    "# Step 3: Save Processed Data\n",
    "wetter_umsatzdaten_kiwo.to_csv(\"processed_data.csv\", index=False)\n",
    "\n",
    "# Save feature columns to a file for use in the modeling stage\n",
    "with open(\"feature_columns.txt\", \"w\") as f:\n",
    "    f.write(\"\\n\".join(feature_columns))\n",
    "\n",
    "print(\"Data preparation and characterization complete. Processed data and feature columns saved.\")\n"
   ]
  }
 ],
 "metadata": {
  "kernelspec": {
   "display_name": "Python 3",
   "language": "python",
   "name": "python3"
  },
  "language_info": {
   "codemirror_mode": {
    "name": "ipython",
    "version": 3
   },
   "file_extension": ".py",
   "mimetype": "text/x-python",
   "name": "python",
   "nbconvert_exporter": "python",
   "pygments_lexer": "ipython3",
   "version": "3.12.1"
  }
 },
 "nbformat": 4,
 "nbformat_minor": 2
}
