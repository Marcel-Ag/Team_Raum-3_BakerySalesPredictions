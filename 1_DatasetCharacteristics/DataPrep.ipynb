{
 "cells": [
  {
   "cell_type": "code",
   "execution_count": 20,
   "metadata": {},
   "outputs": [
    {
     "name": "stdout",
     "output_type": "stream",
     "text": [
      "Data Overview:\n",
      "        Datum  Bewoelkung  Temperatur  Windgeschwindigkeit  Wettercode  \\\n",
      "0  2014-06-21         6.0     15.5125                   18        61.0   \n",
      "1  2014-06-21         6.0     15.5125                   18        61.0   \n",
      "2  2014-06-21         6.0     15.5125                   18        61.0   \n",
      "3  2014-06-21         6.0     15.5125                   18        61.0   \n",
      "4  2014-06-21         6.0     15.5125                   18        61.0   \n",
      "\n",
      "   Warengruppe      Umsatz  KielerWoche  \n",
      "0            1  162.410673            1  \n",
      "1            2  691.302130            1  \n",
      "2            3  266.758834            1  \n",
      "3            4   55.378436            1  \n",
      "4            5  398.075089            1  \n",
      "Shape of Data: (223, 8)\n",
      "Missing values per column:\n",
      "Datum                   0\n",
      "Bewoelkung              0\n",
      "Temperatur              0\n",
      "Windgeschwindigkeit     0\n",
      "Wettercode             58\n",
      "Warengruppe             0\n",
      "Umsatz                  0\n",
      "KielerWoche             0\n",
      "dtype: int64\n",
      "Data preparation and characterization complete. Processed data and feature columns saved.\n"
     ]
    }
   ],
   "source": [
    "# DataPrep.ipynb\n",
    "import pandas as pd\n",
    "import matplotlib.pyplot as plt\n",
    "import seaborn as sns\n",
    "\n",
    "# Load the merged dataset\n",
    "wetter_umsatzdaten_kiwo = pd.read_csv(\"../0_DataPreparation/wetter_umsatzdaten_kiwo.csv\")\n",
    "\n",
    "# Step 1: Inspect the data\n",
    "print(\"Data Overview:\")\n",
    "print(wetter_umsatzdaten_kiwo.head())\n",
    "print(\"Shape of Data:\", wetter_umsatzdaten_kiwo.shape)\n",
    "print(\"Missing values per column:\")\n",
    "print(wetter_umsatzdaten_kiwo.isnull().sum())\n",
    "\n",
    "# Step 2: Feature Engineering\n",
    "# Convert 'Datum' to datetime and add a weekday column\n",
    "wetter_umsatzdaten_kiwo['Datum'] = pd.to_datetime(wetter_umsatzdaten_kiwo['Datum'], errors='coerce')\n",
    "wetter_umsatzdaten_kiwo['Wochentag'] = wetter_umsatzdaten_kiwo['Datum'].dt.day_name()\n",
    "wetter_umsatzdaten_kiwo['Is_Weekend'] = wetter_umsatzdaten_kiwo['Datum'].dt.weekday.isin([5, 6]).astype(int)\n",
    "\n",
    "# Add a temperature category\n",
    "def classify_temperature(temp):\n",
    "    if temp < 0:\n",
    "        return -2  # Very Cold\n",
    "    elif 0 <= temp <= 10:\n",
    "        return -1  # Cold\n",
    "    elif 10 < temp <= 20:\n",
    "        return 1   # Warm\n",
    "    else:\n",
    "        return 2   # Very Warm\n",
    "\n",
    "wetter_umsatzdaten_kiwo['Temperature_Category'] = wetter_umsatzdaten_kiwo['Temperatur'].apply(classify_temperature)\n",
    "\n",
    "# Perform one-hot encoding for 'Warengruppe'\n",
    "warengruppe_encoded = pd.get_dummies(wetter_umsatzdaten_kiwo['Warengruppe'], prefix='Warengruppe')\n",
    "wetter_umsatzdaten_kiwo = pd.concat([wetter_umsatzdaten_kiwo, warengruppe_encoded], axis=1)\n",
    "\n",
    "# Dynamically create a list of feature columns\n",
    "feature_columns = ['Is_Weekend', 'Temperature_Category', 'Windgeschwindigkeit'] + list(warengruppe_encoded.columns)\n",
    "\n",
    "# Step 3: Save Processed Data\n",
    "wetter_umsatzdaten_kiwo.to_csv(\"processed_data.csv\", index=False)\n",
    "\n",
    "# Save feature columns to a file for use in the modeling stage\n",
    "with open(\"feature_columns.txt\", \"w\") as f:\n",
    "    f.write(\"\\n\".join(feature_columns))\n",
    "\n",
    "print(\"Data preparation and characterization complete. Processed data and feature columns saved.\")\n"
   ]
  }
 ],
 "metadata": {
  "kernelspec": {
   "display_name": "Python 3",
   "language": "python",
   "name": "python3"
  },
  "language_info": {
   "codemirror_mode": {
    "name": "ipython",
    "version": 3
   },
   "file_extension": ".py",
   "mimetype": "text/x-python",
   "name": "python",
   "nbconvert_exporter": "python",
   "pygments_lexer": "ipython3",
   "version": "3.12.1"
  }
 },
 "nbformat": 4,
 "nbformat_minor": 2
}
