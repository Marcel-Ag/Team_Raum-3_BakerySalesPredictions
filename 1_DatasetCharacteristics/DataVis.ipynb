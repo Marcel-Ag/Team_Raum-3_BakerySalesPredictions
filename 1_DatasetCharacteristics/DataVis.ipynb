{
 "cells": [
  {
   "cell_type": "markdown",
   "metadata": {},
   "source": [
    "# Data Import"
   ]
  },
  {
   "cell_type": "code",
   "execution_count": null,
   "metadata": {},
   "outputs": [],
   "source": [
    "# DataVis.ipynb\n",
    "import pandas as pd\n",
    "import matplotlib.pyplot as plt\n",
    "import seaborn as sns\n",
    "\n",
    "# Load the processed dataset\n",
    "wetter_umsatzdaten_kiwo = pd.read_csv(\"../0_DataPreparation/processed_data.csv\")\n",
    "print(wetter_umsatzdaten_kiwo.columns)\n",
    "\n",
    "# Load the imputed processed dataset\n",
    "#wetter_umsatzdaten_kiwo = pd.read_csv(\"../0_DataPreparation/processed_data_imputed.csv\")\n",
    "#print(wetter_umsatzdaten_kiwo.columns)\n"
   ]
  },
  {
   "cell_type": "markdown",
   "metadata": {},
   "source": [
    "# Visualization of the distribution of weather data"
   ]
  },
  {
   "cell_type": "code",
   "execution_count": null,
   "metadata": {},
   "outputs": [],
   "source": [
    "# Distribution of Windgeschwindigkeit\n",
    "unique_windgeschwindigkeit = sorted(wetter_umsatzdaten_kiwo['Windgeschwindigkeit'].unique())\n",
    "plt.figure(figsize=(10, 6))\n",
    "sns.histplot(wetter_umsatzdaten_kiwo['Windgeschwindigkeit'], kde=True, bins=unique_windgeschwindigkeit)\n",
    "plt.title('Distribution of Windgeschwindigkeit')\n",
    "plt.xlabel('Windgeschwindigkeit (m/s)')\n",
    "plt.ylabel('Frequency')\n",
    "plt.show()\n",
    "\n",
    "#Distribution of Temperatur\n",
    "unique_temperatur = sorted(wetter_umsatzdaten_kiwo['Temperatur'].unique())\n",
    "plt.figure(figsize=(10, 6))\n",
    "sns.histplot(wetter_umsatzdaten_kiwo['Temperatur'], kde=True, bins=45)\n",
    "plt.title('Distribution of Temperature')\n",
    "plt.xlabel('Temperature (°C)')  \n",
    "plt.ylabel('Frequency')\n",
    "plt.show()\n",
    "\n",
    "#Distribution of Bewoelkung\n",
    "unique_bewoelkung = sorted(wetter_umsatzdaten_kiwo['Bewoelkung'].unique())\n",
    "plt.figure(figsize=(10, 6))\n",
    "sns.histplot(wetter_umsatzdaten_kiwo['Bewoelkung'], kde=True, bins=unique_bewoelkung)\n",
    "plt.title('Distribution of Cloud Status')\n",
    "plt.xlabel('Bewoelkung')\n",
    "plt.ylabel('Frequency')\n",
    "plt.show()\n",
    "\n",
    "#Distribution of Wettercode\n",
    "unique_wettercode = sorted(wetter_umsatzdaten_kiwo['Wettercode'].unique())\n",
    "plt.figure(figsize=(10, 6))\n",
    "sns.histplot(wetter_umsatzdaten_kiwo['Wettercode'], kde=True, bins=unique_wettercode)\n",
    "plt.title('Distribution of Weather Code')\n",
    "plt.xlabel('Weather Code')\n",
    "plt.ylabel('Frequency')\n",
    "plt.show()\n",
    "\n",
    "#Distribution of Ferien\n",
    "unique_ferien = wetter_umsatzdaten_kiwo['Ferien'].unique()\n",
    "plt.figure(figsize=(10, 6))\n",
    "sns.histplot(wetter_umsatzdaten_kiwo['Ferien'], kde=False, bins=len(unique_ferien))\n",
    "plt.title('Distribution of Ferien', fontsize=20)\n",
    "plt.xlabel('')\n",
    "plt.ylabel('Frequency', fontsize=20)\n",
    "plt.xticks(rotation=45, fontsize=20)\n",
    "plt.yticks(fontsize=20)\n",
    "plt.show()\n"
   ]
  },
  {
   "cell_type": "markdown",
   "metadata": {},
   "source": [
    "# Visualization of sales and feature relationship"
   ]
  },
  {
   "cell_type": "code",
   "execution_count": null,
   "metadata": {},
   "outputs": [],
   "source": [
    "# Sales per Ferien Category\n",
    "plt.figure(figsize=(12, 6))\n",
    "sns.barplot(x='Ferien', y='Umsatz', data=wetter_umsatzdaten_kiwo, errorbar=('ci', 95), capsize=0.1)\n",
    "plt.title('Mean Sales per Ferien Category with 95% Confidence Intervals')\n",
    "plt.ylabel('Mean Sales')\n",
    "plt.xlabel('Ferien Category')\n",
    "plt.xticks(rotation=45)\n",
    "plt.tight_layout()\n",
    "plt.show()\n",
    "# Sort the dataframe by date\n",
    "wetter_umsatzdaten_kiwo.sort_values(by='Datum', inplace=True)\n",
    "\n",
    "# Sales per No Ferien Category\n",
    "wetter_umsatzdaten_kiwo['Ferien'].fillna('Keine Ferien', inplace=True)\n",
    "plt.figure(figsize=(15, 10))\n",
    "sns.barplot(x='Ferien', y='Umsatz', data=wetter_umsatzdaten_kiwo, errorbar=('ci', 95), capsize=0.1)\n",
    "plt.title('Mean Sales per Ferien Category with 95% Confidence Intervals', fontsize=20)\n",
    "plt.ylabel('Mean Sales', fontsize=20)\n",
    "plt.xlabel('')\n",
    "plt.xticks(rotation=45, fontsize=20)\n",
    "plt.yticks(fontsize=20)\n",
    "plt.tight_layout()\n",
    "plt.show()\n",
    "\n",
    "\n",
    "# Sales per No Ferien Category\n",
    "plt.figure(figsize=(12, 6))\n",
    "sns.barplot(x='Is_Ferien', y='Umsatz', data=wetter_umsatzdaten_kiwo, errorbar=('ci', 95), capsize=0.1)\n",
    "plt.title('Mean Sales per No Ferien Category with 95% Confidence Intervals')\n",
    "plt.ylabel('Mean Sales')\n",
    "plt.xlabel('No Ferien Category')\n",
    "plt.xticks(rotation=45)\n",
    "plt.tight_layout()\n",
    "plt.show()\n",
    "\n",
    "\n",
    "#Sales per Wind_category\n",
    "plt.figure(figsize=(10, 6))\n",
    "sns.barplot(x='Windgeschwindigkeit_Beaufort', y='Umsatz', data=wetter_umsatzdaten_kiwo, errorbar=('ci', 95), capsize=0.1)\n",
    "plt.title('Mean Sales per Wind Speed with 95% Confidence Intervals')\n",
    "plt.ylabel('Mean Sales')\n",
    "plt.xlabel('Wind Speed (Beaufort)')\n",
    "plt.show()\n",
    "\n",
    "#Sales per Temperature Category\n",
    "plt.figure(figsize=(10, 6))\n",
    "sns.barplot(x='Temperature_Category', y='Umsatz', data=wetter_umsatzdaten_kiwo, errorbar=('ci', 95), capsize=0.1)\n",
    "plt.title('Mean Sales per Temperature Category with 95% Confidence Intervals', fontsize=20)\n",
    "plt.ylabel('Mean Sales', fontsize=20)\n",
    "plt.xlabel('Temperature Category', fontsize=20)\n",
    "plt.xticks(rotation=45, fontsize=20)\n",
    "plt.yticks(fontsize=20)\n",
    "plt.tight_layout()\n",
    "plt.show()\n",
    "\n",
    "\n",
    "#Sales per Cloud Status\n",
    "plt.figure(figsize=(10, 6))\n",
    "sns.barplot(x='Cloud_Status', y='Umsatz', data=wetter_umsatzdaten_kiwo, errorbar=('ci', 95), capsize=0.1)\n",
    "plt.title('Mean Sales per Cloud Status with 95% Confidence Intervals')\n",
    "plt.ylabel('Mean Sales')\n",
    "plt.xlabel('Cloud Status')\n",
    "plt.show()\n",
    "\n",
    "#Sales per Rain Status\n",
    "plt.figure(figsize=(10, 6))\n",
    "sns.barplot(x='Rain_Status', y='Umsatz', data=wetter_umsatzdaten_kiwo, ci=95, capsize=0.1)\n",
    "plt.title('Mean Sales per Rain Status with 95% Confidence Intervals')\n",
    "plt.ylabel('Mean Sales')\n",
    "plt.xlabel('Rain Status')\n",
    "plt.show()\n",
    "\n"
   ]
  },
  {
   "cell_type": "code",
   "execution_count": null,
   "metadata": {},
   "outputs": [],
   "source": []
  },
  {
   "cell_type": "markdown",
   "metadata": {},
   "source": [
    "# Descriptive statistics of variables"
   ]
  },
  {
   "cell_type": "code",
   "execution_count": null,
   "metadata": {},
   "outputs": [],
   "source": [
    "# Step 3: Descriptive Statistics\n",
    "print(wetter_umsatzdaten_kiwo['Windgeschwindigkeit'].describe())\n",
    "print(wetter_umsatzdaten_kiwo['Windgeschwindigkeit_Beaufort'].describe())\n",
    "print(wetter_umsatzdaten_kiwo['Temperatur'].describe())\n",
    "print(wetter_umsatzdaten_kiwo['Bewoelkung'].describe())\n",
    "print(wetter_umsatzdaten_kiwo['Cloud_Status'].describe())\n",
    "print(wetter_umsatzdaten_kiwo['Wettercode'].describe())\n",
    "\n",
    "print(\"Data visualization complete.\")"
   ]
  }
 ],
 "metadata": {
  "kernelspec": {
   "display_name": "Python 3",
   "language": "python",
   "name": "python3"
  },
  "language_info": {
   "codemirror_mode": {
    "name": "ipython",
    "version": 3
   },
   "file_extension": ".py",
   "mimetype": "text/x-python",
   "name": "python",
   "nbconvert_exporter": "python",
   "pygments_lexer": "ipython3",
   "version": "3.12.1"
  }
 },
 "nbformat": 4,
 "nbformat_minor": 2
}
